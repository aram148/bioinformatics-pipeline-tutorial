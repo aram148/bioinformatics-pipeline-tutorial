{
 "cells": [
  {
   "cell_type": "code",
   "execution_count": 1,
   "id": "9a6db64e",
   "metadata": {},
   "outputs": [],
   "source": [
    "import argparse, re"
   ]
  },
  {
   "cell_type": "code",
   "execution_count": 2,
   "id": "e632142f",
   "metadata": {},
   "outputs": [
    {
     "data": {
      "text/plain": [
       "'/Users/hraakr/Documents/Bioinf_pipeline_py/bioinformatics-pipeline-tutorial'"
      ]
     },
     "execution_count": 2,
     "metadata": {},
     "output_type": "execute_result"
    }
   ],
   "source": [
    "import os\n",
    "os.getcwd()"
   ]
  },
  {
   "cell_type": "code",
   "execution_count": 3,
   "id": "c37cc447",
   "metadata": {},
   "outputs": [],
   "source": [
    "def load_fasta(filename):\n",
    "\t\"\"\"\n",
    "\tLoad a protein with its metadata from a given .fasta file.\n",
    "\t\"\"\"\n",
    "\twith open(filename, \"r\") as fasta_file:\n",
    "\t\tlines = fasta_file.read().splitlines()\n",
    "\tmetadata = lines[0]\n",
    "\tsequence = \"\".join(lines[1:])\n",
    "\treturn metadata, sequence"
   ]
  },
  {
   "cell_type": "code",
   "execution_count": 6,
   "id": "fc7af6e7",
   "metadata": {},
   "outputs": [],
   "source": [
    "metadata, sequence = load_fasta(\"./fasta/KLF4.fasta\")"
   ]
  },
  {
   "cell_type": "code",
   "execution_count": 7,
   "id": "e56d8d02",
   "metadata": {},
   "outputs": [
    {
     "data": {
      "text/plain": [
       "'>sp|O43474|KLF4_HUMAN Krueppel-like factor 4 OS=Homo sapiens OX=9606 GN=KLF4 PE=1 SV=3'"
      ]
     },
     "execution_count": 7,
     "metadata": {},
     "output_type": "execute_result"
    }
   ],
   "source": [
    "metadata"
   ]
  },
  {
   "cell_type": "code",
   "execution_count": 8,
   "id": "6405c330",
   "metadata": {},
   "outputs": [
    {
     "data": {
      "text/plain": [
       "'MRQPPGESDMAVSDALLPSFSTFASGPAGREKTLRQAGAPNNRWREELSHMKRLPPVLPGRPYDLAAATVATDLESGGAGAACGGSNLAPLPRRETEEFNDLLDLDFILSNSLTHPPESVAATVSSSASASSSSSPSSSGPASAPSTCSFTYPIRAGNDPGVAPGGTGGGLLYGRESAPPPTAPFNLADINDVSPSGGFVAELLRPELDPVYIPPQQPQPPGGGLMGKFVLKASLSAPGSEYGSPSVISVSKGSPDGSHPVVVAPYNGGPPRTCPKIKQEAVSSCTHLGAGPPLSNGHRPAAHDFPLGRQLPSRTTPTLGLEEVLSSRDCHPALPLPPGFHPHPGPNYPSFLPDQMQPQVPPLHYQGQSRGFVARAGEPCVCWPHFGTHGMMLTPPSSPLELMPPGSCMPEEPKPKRGRRSWPRKRTATHTCDYAGCGKTYTKSSHLKAHLRTHTGEKPYHCDWDGCGWKFARSDELTRHYRKHTGHRPFQCQKCDRAFSRSDHLALHMKRHF'"
      ]
     },
     "execution_count": 8,
     "metadata": {},
     "output_type": "execute_result"
    }
   ],
   "source": [
    "sequence"
   ]
  },
  {
   "cell_type": "code",
   "execution_count": null,
   "id": "af57dd1a",
   "metadata": {},
   "outputs": [],
   "source": []
  }
 ],
 "metadata": {
  "kernelspec": {
   "display_name": "Python 3 (ipykernel)",
   "language": "python",
   "name": "python3"
  },
  "language_info": {
   "codemirror_mode": {
    "name": "ipython",
    "version": 3
   },
   "file_extension": ".py",
   "mimetype": "text/x-python",
   "name": "python",
   "nbconvert_exporter": "python",
   "pygments_lexer": "ipython3",
   "version": "3.10.6"
  }
 },
 "nbformat": 4,
 "nbformat_minor": 5
}
